{
 "cells": [
  {
   "cell_type": "code",
   "execution_count": 2,
   "id": "5339addb-d971-44f7-9362-05e8ae244e9c",
   "metadata": {},
   "outputs": [],
   "source": [
    "#Q1. \n",
    "a=(1,2,3,\"Yash\", True, 36.89)"
   ]
  },
  {
   "cell_type": "code",
   "execution_count": 3,
   "id": "b78caaa5-e18c-412d-93e1-3f6a5b8025d4",
   "metadata": {},
   "outputs": [],
   "source": [
    "b=4,5,6"
   ]
  },
  {
   "cell_type": "code",
   "execution_count": 4,
   "id": "06862eb9-92a3-4a8b-a395-267ba68a2370",
   "metadata": {},
   "outputs": [],
   "source": [
    "c=\"Mehta\""
   ]
  },
  {
   "cell_type": "code",
   "execution_count": 5,
   "id": "21321229-bae2-4d5b-a0b2-5eb537cbb1b6",
   "metadata": {},
   "outputs": [],
   "source": [
    "d= False"
   ]
  },
  {
   "cell_type": "code",
   "execution_count": 6,
   "id": "b09dd409-92bd-4c4c-880c-62ae3a62496d",
   "metadata": {},
   "outputs": [],
   "source": [
    "e= 37.39"
   ]
  },
  {
   "cell_type": "code",
   "execution_count": 7,
   "id": "c1563ded-992d-4935-a67d-9402567c240f",
   "metadata": {},
   "outputs": [],
   "source": [
    "f=(a,b,c,d,e)"
   ]
  },
  {
   "cell_type": "code",
   "execution_count": 8,
   "id": "f5816a62-c549-4c49-aa84-855e8e2eecc3",
   "metadata": {},
   "outputs": [
    {
     "data": {
      "text/plain": [
       "((1, 2, 3, 'Yash', True, 36.89), (4, 5, 6), 'Mehta', False, 37.39)"
      ]
     },
     "execution_count": 8,
     "metadata": {},
     "output_type": "execute_result"
    }
   ],
   "source": [
    "f\n"
   ]
  },
  {
   "cell_type": "code",
   "execution_count": 9,
   "id": "a2d57f16-7a9f-41bd-a369-eadc4bb19698",
   "metadata": {},
   "outputs": [],
   "source": [
    "#Q2.\n",
    "var1=''\n",
    "var2='[DS,ML,Python]'\n",
    "var3=['DS','ML','Pyhton']\n",
    "var4=1\n"
   ]
  },
  {
   "cell_type": "code",
   "execution_count": 13,
   "id": "16e4ffd7-6888-404d-b968-ba84e9154105",
   "metadata": {},
   "outputs": [
    {
     "data": {
      "text/plain": [
       "str"
      ]
     },
     "execution_count": 13,
     "metadata": {},
     "output_type": "execute_result"
    }
   ],
   "source": [
    "type(var1)"
   ]
  },
  {
   "cell_type": "code",
   "execution_count": 14,
   "id": "53ddb0b6-981a-427d-9400-22b3b7716a30",
   "metadata": {},
   "outputs": [
    {
     "data": {
      "text/plain": [
       "str"
      ]
     },
     "execution_count": 14,
     "metadata": {},
     "output_type": "execute_result"
    }
   ],
   "source": [
    "type(var2)"
   ]
  },
  {
   "cell_type": "code",
   "execution_count": 15,
   "id": "a3b81c19-e4ec-4bb5-add6-df4c8865dd76",
   "metadata": {},
   "outputs": [
    {
     "data": {
      "text/plain": [
       "list"
      ]
     },
     "execution_count": 15,
     "metadata": {},
     "output_type": "execute_result"
    }
   ],
   "source": [
    "type(var3)"
   ]
  },
  {
   "cell_type": "code",
   "execution_count": 16,
   "id": "b0cc574c-7d3f-4c09-aaa3-9c0a9f463536",
   "metadata": {},
   "outputs": [
    {
     "data": {
      "text/plain": [
       "int"
      ]
     },
     "execution_count": 16,
     "metadata": {},
     "output_type": "execute_result"
    }
   ],
   "source": [
    "type(var4)"
   ]
  },
  {
   "cell_type": "code",
   "execution_count": 17,
   "id": "84a9fd9c-5c94-4cff-a4b9-d2613ac6a3ac",
   "metadata": {},
   "outputs": [],
   "source": [
    "#Q3.\n",
    "a=10\n",
    "b=20\n"
   ]
  },
  {
   "cell_type": "code",
   "execution_count": 18,
   "id": "f92a3c8b-0051-4e82-9312-f66d1022cdb7",
   "metadata": {},
   "outputs": [
    {
     "data": {
      "text/plain": [
       "0.5"
      ]
     },
     "execution_count": 18,
     "metadata": {},
     "output_type": "execute_result"
    }
   ],
   "source": [
    "a/b\n",
    "#division"
   ]
  },
  {
   "cell_type": "code",
   "execution_count": 19,
   "id": "f2804f1d-9b01-4946-b662-9428b3f10d45",
   "metadata": {},
   "outputs": [
    {
     "data": {
      "text/plain": [
       "10"
      ]
     },
     "execution_count": 19,
     "metadata": {},
     "output_type": "execute_result"
    }
   ],
   "source": [
    "a%b\n",
    "#remainder"
   ]
  },
  {
   "cell_type": "code",
   "execution_count": 20,
   "id": "d92feb29-96ff-4f4c-bacb-eecc4492bde0",
   "metadata": {},
   "outputs": [
    {
     "data": {
      "text/plain": [
       "0"
      ]
     },
     "execution_count": 20,
     "metadata": {},
     "output_type": "execute_result"
    }
   ],
   "source": [
    "a//b\n",
    "#floor division"
   ]
  },
  {
   "cell_type": "code",
   "execution_count": 21,
   "id": "57094d0a-c992-4ad0-8b0d-7de52aff5279",
   "metadata": {},
   "outputs": [
    {
     "data": {
      "text/plain": [
       "100000000000000000000"
      ]
     },
     "execution_count": 21,
     "metadata": {},
     "output_type": "execute_result"
    }
   ],
   "source": [
    "a**b\n",
    "#exponential"
   ]
  },
  {
   "cell_type": "code",
   "execution_count": 22,
   "id": "d460424e-8604-44f6-b24d-df542a1d1faf",
   "metadata": {},
   "outputs": [],
   "source": [
    "#Q4.\n",
    "a=(1,2,3,4,5,\"Yash\",\"Mehta\",True,False,2839.5748)"
   ]
  },
  {
   "cell_type": "code",
   "execution_count": 29,
   "id": "08f238d3-3d56-465b-bd6c-454e395d237e",
   "metadata": {},
   "outputs": [
    {
     "name": "stdout",
     "output_type": "stream",
     "text": [
      "1\n",
      "<class 'int'>\n",
      "2\n",
      "<class 'int'>\n",
      "3\n",
      "<class 'int'>\n",
      "4\n",
      "<class 'int'>\n",
      "5\n",
      "<class 'int'>\n",
      "Yash\n",
      "<class 'str'>\n",
      "Mehta\n",
      "<class 'str'>\n",
      "True\n",
      "<class 'bool'>\n",
      "False\n",
      "<class 'bool'>\n",
      "2839.5748\n",
      "<class 'float'>\n"
     ]
    }
   ],
   "source": [
    "for i in a:\n",
    "    print(i)\n",
    "    print(type(i))\n",
    "    "
   ]
  },
  {
   "cell_type": "code",
   "execution_count": null,
   "id": "8d71a6ef-67b3-4ea3-935d-bbb53c08d980",
   "metadata": {},
   "outputs": [],
   "source": [
    "#Q5. I am not able to do this one "
   ]
  },
  {
   "cell_type": "code",
   "execution_count": 3,
   "id": "c3a20422-5567-4d91-bb4b-48648d5058a2",
   "metadata": {},
   "outputs": [],
   "source": [
    "#Q6.\n",
    "C=(range(26))\n",
    "    "
   ]
  },
  {
   "cell_type": "code",
   "execution_count": 5,
   "id": "d3912116-20e6-4af1-b05a-03a8ac2d17ee",
   "metadata": {},
   "outputs": [],
   "source": [
    "l=list(C)\n"
   ]
  },
  {
   "cell_type": "code",
   "execution_count": 6,
   "id": "9a4e6744-6e7b-4c99-91e7-a683df595733",
   "metadata": {},
   "outputs": [
    {
     "data": {
      "text/plain": [
       "[0,\n",
       " 1,\n",
       " 2,\n",
       " 3,\n",
       " 4,\n",
       " 5,\n",
       " 6,\n",
       " 7,\n",
       " 8,\n",
       " 9,\n",
       " 10,\n",
       " 11,\n",
       " 12,\n",
       " 13,\n",
       " 14,\n",
       " 15,\n",
       " 16,\n",
       " 17,\n",
       " 18,\n",
       " 19,\n",
       " 20,\n",
       " 21,\n",
       " 22,\n",
       " 23,\n",
       " 24,\n",
       " 25]"
      ]
     },
     "execution_count": 6,
     "metadata": {},
     "output_type": "execute_result"
    }
   ],
   "source": [
    "l"
   ]
  },
  {
   "cell_type": "code",
   "execution_count": 8,
   "id": "e3da9f04-b90b-4706-b882-ed46947e9aac",
   "metadata": {},
   "outputs": [
    {
     "name": "stdout",
     "output_type": "stream",
     "text": [
      "0\n",
      "3\n",
      "6\n",
      "9\n",
      "12\n",
      "15\n",
      "18\n",
      "21\n",
      "24\n"
     ]
    }
   ],
   "source": [
    "for i in C:\n",
    "      if i % 3==0:\n",
    "        print(i)"
   ]
  },
  {
   "cell_type": "code",
   "execution_count": 5,
   "id": "121e1a6c-112b-48dc-be49-ffd37740f6a0",
   "metadata": {},
   "outputs": [],
   "source": [
    "#Q7.\n",
    "\n",
    "b='pwskills'\n"
   ]
  },
  {
   "cell_type": "code",
   "execution_count": 21,
   "id": "35e4dce4-09f7-4fa8-b1e2-0eb46f530dde",
   "metadata": {},
   "outputs": [
    {
     "data": {
      "text/plain": [
       "'s'"
      ]
     },
     "execution_count": 21,
     "metadata": {},
     "output_type": "execute_result"
    }
   ],
   "source": [
    "b[2]"
   ]
  },
  {
   "cell_type": "code",
   "execution_count": 22,
   "id": "4bfa56ef-fbb0-4fb9-896b-ccc0ebfed6c8",
   "metadata": {},
   "outputs": [
    {
     "ename": "TypeError",
     "evalue": "'str' object does not support item assignment",
     "output_type": "error",
     "traceback": [
      "\u001b[0;31m---------------------------------------------------------------------------\u001b[0m",
      "\u001b[0;31mTypeError\u001b[0m                                 Traceback (most recent call last)",
      "Cell \u001b[0;32mIn[22], line 1\u001b[0m\n\u001b[0;32m----> 1\u001b[0m \u001b[43mb\u001b[49m\u001b[43m[\u001b[49m\u001b[38;5;241;43m2\u001b[39;49m\u001b[43m]\u001b[49m\u001b[38;5;241m=\u001b[39m \u001b[38;5;124m\"\u001b[39m\u001b[38;5;124mi\u001b[39m\u001b[38;5;124m\"\u001b[39m\n",
      "\u001b[0;31mTypeError\u001b[0m: 'str' object does not support item assignment"
     ]
    }
   ],
   "source": [
    "b[2]= \"i\" #thus string is imutable "
   ]
  },
  {
   "cell_type": "code",
   "execution_count": 1,
   "id": "64ae9065-06ac-4ddf-a2b8-e6bed0c1ada4",
   "metadata": {},
   "outputs": [],
   "source": [
    "y = [1,2,3,4,'yash',True,234.939]"
   ]
  },
  {
   "cell_type": "code",
   "execution_count": 2,
   "id": "3facd17d-82a1-4a8c-bbe7-d2144bdbf923",
   "metadata": {},
   "outputs": [
    {
     "data": {
      "text/plain": [
       "[1, 2, 3, 4, 'yash', True, 234.939]"
      ]
     },
     "execution_count": 2,
     "metadata": {},
     "output_type": "execute_result"
    }
   ],
   "source": [
    "y"
   ]
  },
  {
   "cell_type": "code",
   "execution_count": 3,
   "id": "464e44fd-8751-414c-b2be-35f4ac2d65f5",
   "metadata": {},
   "outputs": [],
   "source": [
    "y[4]=404"
   ]
  },
  {
   "cell_type": "code",
   "execution_count": 4,
   "id": "78c8f2d5-53f9-46a4-bca3-53eae9586ab3",
   "metadata": {},
   "outputs": [
    {
     "data": {
      "text/plain": [
       "[1, 2, 3, 4, 404, True, 234.939]"
      ]
     },
     "execution_count": 4,
     "metadata": {},
     "output_type": "execute_result"
    }
   ],
   "source": [
    "y"
   ]
  },
  {
   "cell_type": "code",
   "execution_count": null,
   "id": "59d2ccf7-ea0a-4b4a-bbb7-f449ef1269da",
   "metadata": {},
   "outputs": [],
   "source": [
    "#thus list is mutable "
   ]
  },
  {
   "cell_type": "code",
   "execution_count": null,
   "id": "d5f2b79b-79fd-41db-bcda-050b4959076c",
   "metadata": {},
   "outputs": [],
   "source": []
  }
 ],
 "metadata": {
  "kernelspec": {
   "display_name": "Python 3 (ipykernel)",
   "language": "python",
   "name": "python3"
  },
  "language_info": {
   "codemirror_mode": {
    "name": "ipython",
    "version": 3
   },
   "file_extension": ".py",
   "mimetype": "text/x-python",
   "name": "python",
   "nbconvert_exporter": "python",
   "pygments_lexer": "ipython3",
   "version": "3.10.8"
  }
 },
 "nbformat": 4,
 "nbformat_minor": 5
}
